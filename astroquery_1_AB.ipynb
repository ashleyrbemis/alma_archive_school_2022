{
 "cells": [
  {
   "cell_type": "markdown",
   "metadata": {},
   "source": [
    "# Using Astroquery to find ALMA data of your science target\n",
    "\n",
    "This tutorial walks you through using Astroquery's catalog and archive search functionality in addition to its line list services to find recent ALMA data on the CO 1-0 transition across M83. This can be adapted to similar extragalactic projects.\n",
    "\n",
    "The Astroquery readthedocs is located [here](https://astroquery.readthedocs.io/en/latest/).\n",
    "\n",
    "We suggest running Astroquery version 0.4.7. Some steps of this tutorial will not work in earlier versions, such as HSA search functionionality or ALMA authentication."
   ]
  },
  {
   "cell_type": "code",
   "execution_count": 10,
   "metadata": {
    "scrolled": true
   },
   "outputs": [
    {
     "name": "stdout",
     "output_type": "stream",
     "text": [
      "0.4.6\n"
     ]
    }
   ],
   "source": [
    "# Import Astroquery and check your current working version by doing the following:\n",
    "import astroquery\n",
    "print(astroquery.__version__)\n",
    "\n",
    "# Import astroquery's ALMA archive search tool and other useful packages:\n",
    "from astroquery.alma import Alma\n",
    "import numpy as np\n",
    "import astropy.units as u\n",
    "#instantiate alma object/class\n",
    "alma = Alma()\n",
    "\n",
    "# If you have access to proprietary data that you want to work with, you will need to login to your ALMA account:\n",
    "#login_name = \"\"\n",
    "#alma.login(login_name)"
   ]
  },
  {
   "cell_type": "markdown",
   "metadata": {},
   "source": [
    "## 1. Perform a query of the ALMA science archive\n",
    "\n",
    "We perform an ALMA object query (`alma.query_object`). Astroquery sends the source name to the ALMA Archive, which then resolves the source coordinates using, i.e. Simbad, NED, and Vizier, for matches to the object name. Astroquery returns an astropy table containing information on all of the ALMA archival data towards M83's coordinates.\n",
    "\n",
    "Note that you can instead perform a region search (`alma.query_region`) using Astroquery specifying a search radius. The default ALMA search radius is 10 arcminutes."
   ]
  },
  {
   "cell_type": "code",
   "execution_count": 12,
   "metadata": {},
   "outputs": [
    {
     "name": "stdout",
     "output_type": "stream",
     "text": [
      "Data for M83:\n",
      "                           access_url                           access_format ... collections\n",
      "                                                                              ...            \n",
      "--------------------------------------------------------------- ------------- ... -----------\n",
      "https://almascience.org/datalink/sync?ID=uid://A002/X3216af/X31     applicati ...            \n",
      "https://almascience.org/datalink/sync?ID=uid://A002/X3216af/X31     applicati ...            \n",
      "https://almascience.org/datalink/sync?ID=uid://A002/X3216af/X31     applicati ...            \n",
      "https://almascience.org/datalink/sync?ID=uid://A002/X3216af/X31     applicati ...            \n",
      "   https://almascience.org/datalink/sync?ID=uid://A001/X2df/Xe2     applicati ...            \n",
      "   https://almascience.org/datalink/sync?ID=uid://A001/X2df/Xe2     applicati ...            \n",
      "   https://almascience.org/datalink/sync?ID=uid://A001/X2df/Xe2     applicati ...            \n",
      "                                                            ...           ... ...         ...\n",
      "https://almascience.org/datalink/sync?ID=uid://A001/X1465/X198d     applicati ...            \n",
      "https://almascience.org/datalink/sync?ID=uid://A001/X1465/X198d     applicati ...            \n",
      "https://almascience.org/datalink/sync?ID=uid://A001/X1465/X198d     applicati ...            \n",
      "  https://almascience.org/datalink/sync?ID=uid://A001/X14c2/Xfe     applicati ...            \n",
      "  https://almascience.org/datalink/sync?ID=uid://A001/X14c2/Xfe     applicati ...            \n",
      "  https://almascience.org/datalink/sync?ID=uid://A001/X14c2/Xfe     applicati ...            \n",
      "  https://almascience.org/datalink/sync?ID=uid://A001/X14c2/Xfe     applicati ...            \n",
      "Length = 404 rows\n",
      "Column names of retrieved table:\n",
      "['access_url', 'access_format', 'proposal_id', 'data_rights', 'gal_longitude', 'gal_latitude', 'obs_publisher_did', 'obs_collection', 'facility_name', 'instrument_name', 'obs_id', 'dataproduct_type', 'calib_level', 'target_name', 's_ra', 's_dec', 's_fov', 's_region', 's_resolution', 't_min', 't_max', 't_exptime', 't_resolution', 'em_min', 'em_max', 'em_res_power', 'pol_states', 'o_ucd', 'band_list', 'em_resolution', 'authors', 'pub_abstract', 'publication_year', 'proposal_abstract', 'schedblock_name', 'proposal_authors', 'sensitivity_10kms', 'cont_sensitivity_bandwidth', 'pwv', 'group_ous_uid', 'member_ous_uid', 'asdm_uid', 'obs_title', 'type', 'scan_intent', 'science_observation', 'spatial_scale_max', 'bandwidth', 'antenna_arrays', 'is_mosaic', 'obs_release_date', 'spatial_resolution', 'frequency_support', 'frequency', 'velocity_resolution', 'obs_creator_name', 'pub_title', 'first_author', 'qa2_passed', 'bib_reference', 'science_keyword', 'scientific_category', 'lastModified', 'collections']\n"
     ]
    }
   ],
   "source": [
    "# Query the alma archive for galaxy M83 observations using an object query:\n",
    "q_results = alma.query_object(\"M83\")\n",
    "\n",
    "# Astroquery returns an astropy table with all ALMA results matching the coordinates to M83.\n",
    "print(\"Data for M83:\")\n",
    "print(q_results)\n",
    "\n",
    "# Print the column names of the resulting table.\n",
    "print(\"Column names of retrieved table:\")\n",
    "print(q_results.colnames)"
   ]
  },
  {
   "cell_type": "markdown",
   "metadata": {},
   "source": [
    "### 1b. Select observations by time and ALMA band\n",
    "\n",
    "You can further select rows of the table based on the data you are interested in. In the following example, we use datetime to select rows of the table corresponding to observations later than 2017."
   ]
  },
  {
   "cell_type": "code",
   "execution_count": 13,
   "metadata": {},
   "outputs": [
    {
     "name": "stdout",
     "output_type": "stream",
     "text": [
      "M83, Band 7 and 9, newer than 2017:\n",
      "                          access_url                          access_format ...       lastModified      collections\n",
      "                                                                            ...                                    \n",
      "------------------------------------------------------------- ------------- ... ----------------------- -----------\n",
      "https://almascience.org/datalink/sync?ID=uid://A001/X888/X23e     applicati ... 2022-07-07T22:43:17.085            \n",
      "https://almascience.org/datalink/sync?ID=uid://A001/X888/X23e     applicati ... 2022-07-07T22:43:17.085            \n",
      "https://almascience.org/datalink/sync?ID=uid://A001/X888/X23e     applicati ... 2022-07-07T22:43:17.085            \n",
      "https://almascience.org/datalink/sync?ID=uid://A001/X888/X23e     applicati ... 2022-07-07T22:43:17.085            \n",
      "https://almascience.org/datalink/sync?ID=uid://A001/X888/X240     applicati ... 2022-07-07T22:43:17.085            \n",
      "https://almascience.org/datalink/sync?ID=uid://A001/X888/X240     applicati ... 2022-07-07T22:43:17.085            \n",
      "https://almascience.org/datalink/sync?ID=uid://A001/X888/X240     applicati ... 2022-07-07T22:43:17.085            \n",
      "                                                          ...           ... ...                     ...         ...\n",
      "https://almascience.org/datalink/sync?ID=uid://A001/X2fe/X3d0     applicati ... 2022-07-07T22:43:17.085            \n",
      "https://almascience.org/datalink/sync?ID=uid://A001/X2fe/X3d0     applicati ... 2022-07-07T22:43:17.085            \n",
      "https://almascience.org/datalink/sync?ID=uid://A001/X2fe/X3d0     applicati ... 2022-07-07T22:43:17.085            \n",
      "https://almascience.org/datalink/sync?ID=uid://A001/X2fe/X3c0     applicati ... 2022-07-07T22:43:17.085            \n",
      "https://almascience.org/datalink/sync?ID=uid://A001/X2fe/X3c0     applicati ... 2022-07-07T22:43:17.085            \n",
      "https://almascience.org/datalink/sync?ID=uid://A001/X2fe/X3c0     applicati ... 2022-07-07T22:43:17.085            \n",
      "https://almascience.org/datalink/sync?ID=uid://A001/X2fe/X3c0     applicati ... 2022-07-07T22:43:17.085            \n",
      "Length = 23 rows\n"
     ]
    }
   ],
   "source": [
    "from datetime import datetime\n",
    "\n",
    "# Search table for observations that are from 2017 or later:\n",
    "# ** Note that this will overwrite the original table.\n",
    "q_results = q_results[[datetime.fromisoformat(i) > datetime(2018,1,1) for i in q_results['obs_release_date']]] \n",
    "\n",
    "# Create a new table by selecting by band,  e.g. specificall band 7 and 9:\n",
    "# You can also modify this search to select by frequency or science goal.\n",
    "q_results_b7_b9 = alma.query_object(\"M83\",payload=dict(band_list = [7,9]))\n",
    "\n",
    "# Search the new table for observations that are from 2017 or later:\n",
    "q_results_b7_b9 = q_results_b7_b9[[datetime.fromisoformat(i) > datetime(2018,1,1) for i in q_results_b7_b9['obs_release_date']]]\n",
    "print(\"M83, Band 7 and 9, newer than 2017:\")\n",
    "print(q_results_b7_b9)"
   ]
  },
  {
   "cell_type": "code",
   "execution_count": null,
   "metadata": {},
   "outputs": [],
   "source": []
  },
  {
   "cell_type": "code",
   "execution_count": 3,
   "metadata": {},
   "outputs": [
    {
     "name": "stdout",
     "output_type": "stream",
     "text": [
      "0.001711\n"
     ]
    }
   ],
   "source": [
    "#part 1: check if CO lines in band:\n",
    "\n",
    "#get redshift\n",
    "#from astroquery.ipac.ned import Ned\n",
    "from astroquery.ipac.ned import Ned\n",
    "z_result = Ned.query_object(\"M 83\")#space is needed here!!\n",
    "redshift = z_result['Redshift'][0]\n",
    "print(redshift)\n"
   ]
  },
  {
   "cell_type": "code",
   "execution_count": 4,
   "metadata": {},
   "outputs": [
    {
     "name": "stdout",
     "output_type": "stream",
     "text": [
      "Species  Chemical Name  Freq-GHz(rest frame,redshifted) ... E_U (cm^-1)  E_U (K)  Linelist\n",
      "------- --------------- ------------------------------- ... ----------- --------- --------\n",
      "  COv=0 Carbon Monoxide                              -- ...     3.84503   5.53211      JPL\n",
      "  COv=0 Carbon Monoxide                              -- ...     3.84503   5.53211     CDMS\n",
      "  COv=0 Carbon Monoxide                      115.271202 ...         0.0       0.0    Lovas\n",
      "  COv=0 Carbon Monoxide                      115.271202 ...     3.84503   5.53211    SLAIM\n",
      "  COv=0 Carbon Monoxide                              -- ...    11.53492  16.59608      JPL\n",
      "  COv=0 Carbon Monoxide                         230.538 ...         0.0       0.0    Lovas\n",
      "  COv=0 Carbon Monoxide                         230.538 ...    11.53492  16.59608    SLAIM\n",
      "    ...             ...                             ... ...         ...       ...      ...\n",
      "  COv=0 Carbon Monoxide                              -- ...    80.73546 116.15965     CDMS\n",
      "  COv=0 Carbon Monoxide                      806.651801 ...         0.0       0.0    Lovas\n",
      "  COv=0 Carbon Monoxide                      806.651801 ...   107.64201 154.87195    SLAIM\n",
      "  COv=0 Carbon Monoxide                              -- ...   107.64241 154.87252      JPL\n",
      "  COv=0 Carbon Monoxide                              -- ...   107.64241 154.87252     CDMS\n",
      "  COv=0 Carbon Monoxide                              -- ...   138.39033 199.11167      JPL\n",
      "  COv=0 Carbon Monoxide                              -- ...   138.39033 199.11167     CDMS\n",
      "  COv=0 Carbon Monoxide                      921.799704 ...   138.38993 199.11109    SLAIM\n",
      "Length = 30 rows\n",
      "                          access_url                          access_format  proposal_id   ... collections CO data\n",
      "                                                                                           ...                    \n",
      "------------------------------------------------------------- ------------- -------------- ... ----------- -------\n",
      " https://almascience.org/datalink/sync?ID=uid://A001/X2df/Xe2     applicati 2015.1.00175.S ...                    \n",
      " https://almascience.org/datalink/sync?ID=uid://A001/X2df/Xe2     applicati 2015.1.00175.S ...                    \n",
      " https://almascience.org/datalink/sync?ID=uid://A001/X2df/Xe2     applicati 2015.1.00175.S ...                    \n",
      " https://almascience.org/datalink/sync?ID=uid://A001/X2df/Xe2     applicati 2015.1.00175.S ...                    \n",
      " https://almascience.org/datalink/sync?ID=uid://A001/X2df/Xc6     applicati 2015.1.00175.S ...       ari_l        \n",
      " https://almascience.org/datalink/sync?ID=uid://A001/X2df/Xc6     applicati 2015.1.00175.S ...       ari_l        \n",
      " https://almascience.org/datalink/sync?ID=uid://A001/X2df/Xc6     applicati 2015.1.00175.S ...       ari_l        \n",
      "                                                          ...           ...            ... ...         ...     ...\n",
      "https://almascience.org/datalink/sync?ID=uid://A001/X1295/X29     applicati 2017.1.00079.S ...              CO 1-0\n",
      "https://almascience.org/datalink/sync?ID=uid://A001/X1295/X29     applicati 2017.1.00079.S ...              CO 1-0\n",
      "https://almascience.org/datalink/sync?ID=uid://A001/X1295/X29     applicati 2017.1.00079.S ...              CO 1-0\n",
      "https://almascience.org/datalink/sync?ID=uid://A001/X1295/X19     applicati 2017.1.00079.S ...              CO 1-0\n",
      "https://almascience.org/datalink/sync?ID=uid://A001/X1295/X19     applicati 2017.1.00079.S ...              CO 1-0\n",
      "https://almascience.org/datalink/sync?ID=uid://A001/X1295/X19     applicati 2017.1.00079.S ...              CO 1-0\n",
      "https://almascience.org/datalink/sync?ID=uid://A001/X1295/X19     applicati 2017.1.00079.S ...              CO 1-0\n",
      "Length = 282 rows\n"
     ]
    }
   ],
   "source": [
    "#get CO lines from splatalogue\n",
    "from astroquery.splatalogue import Splatalogue\n",
    "l_results = Splatalogue.query_lines(1*u.GHz,1000*u.GHz,chemical_name = ' CO v = 0 ') \n",
    "print(l_results)\n",
    "#a little cleanup by removing rows with masked values\n",
    "l_results.remove_rows(np.where([c.data for c in l_results.mask.itercols()])[-1])              \n",
    "#check if lines are in which projects \n",
    "#alma utils converts the frequency support into arrays holding the spectral windows' start and end frequencies\n",
    "from astroquery.alma.utils import parse_frequency_support\n",
    "#check which CO line is in which band\n",
    "CO_loc = np.array([[any([a[0] < freq*u.GHz/(1+redshift) < a[1] for a in parse_frequency_support(q_row['frequency_support'])]) for q_row in q_results] for freq in l_results['Freq-GHz(rest frame,redshifted)']] ).T\n",
    "CO_lin = ['CO '+' '.join(l_results['Resolved QNs'][a]) if any(a) else ' ' for a in CO_loc]\n",
    "q_results['CO data']=CO_lin\n",
    "print(q_results)"
   ]
  },
  {
   "cell_type": "code",
   "execution_count": 5,
   "metadata": {},
   "outputs": [],
   "source": [
    "#eliminate data with no co lines\n",
    "q_results = q_results[q_results['CO data'] != ' ']\n",
    "#remove this column as it is masked and causes problems\n",
    "q_results.remove_column('publication_year')\n"
   ]
  },
  {
   "cell_type": "code",
   "execution_count": 6,
   "metadata": {},
   "outputs": [],
   "source": [
    "#download data and set a cache location\n",
    "#only get fits files.\n",
    "from astropy.table import unique\n",
    "\n",
    "q_results = unique(q_results,'obs_id')\n",
    "#remove the [0]!\n",
    "uid_url_tab_list = [Alma.get_data_info(a, expand_tarfiles=True) for a in [q_results['obs_id'][0]]]\n",
    "fits_urls = [[url for url in tab['access_url'] if '.fits' in url] for tab in uid_url_tab_list]\n",
    "Alma.cache_location = '/big/external/drive/'\n",
    "#files = [alma.download_files(url,cache=True) for url in fits_urls] tested and works\n",
    "#print(files)\n"
   ]
  },
  {
   "cell_type": "code",
   "execution_count": 7,
   "metadata": {},
   "outputs": [
    {
     "name": "stdout",
     "output_type": "stream",
     "text": [
      "                           access_url                           access_format ... collections\n",
      "                                                                              ...            \n",
      "--------------------------------------------------------------- ------------- ... -----------\n",
      " https://almascience.org/datalink/sync?ID=uid://A001/X146a/X292     applicati ...            \n",
      " https://almascience.org/datalink/sync?ID=uid://A001/X146a/X292     applicati ...            \n",
      " https://almascience.org/datalink/sync?ID=uid://A001/X146a/X292     applicati ...            \n",
      " https://almascience.org/datalink/sync?ID=uid://A001/X146a/X26e     applicati ...            \n",
      " https://almascience.org/datalink/sync?ID=uid://A001/X146a/X26e     applicati ...            \n",
      " https://almascience.org/datalink/sync?ID=uid://A001/X146a/X26e     applicati ...            \n",
      " https://almascience.org/datalink/sync?ID=uid://A001/X146a/X296     applicati ...            \n",
      "                                                            ...           ... ...         ...\n",
      "https://almascience.org/datalink/sync?ID=uid://A001/X1465/X1563     applicati ...            \n",
      "https://almascience.org/datalink/sync?ID=uid://A001/X1465/X1563     applicati ...            \n",
      "https://almascience.org/datalink/sync?ID=uid://A001/X1465/X1563     applicati ...            \n",
      "https://almascience.org/datalink/sync?ID=uid://A001/X1465/X1567     applicati ...            \n",
      "https://almascience.org/datalink/sync?ID=uid://A001/X1465/X1567     applicati ...            \n",
      "https://almascience.org/datalink/sync?ID=uid://A001/X1465/X1567     applicati ...            \n",
      "https://almascience.org/datalink/sync?ID=uid://A001/X1465/X1567     applicati ...            \n",
      "Length = 9421 rows\n"
     ]
    }
   ],
   "source": [
    "\n",
    "#Part 2: compare some catalogs, do cone search ~1deg\n",
    "#cosmos field center:\n",
    "from astropy.coordinates import SkyCoord\n",
    "cos_cen = SkyCoord(\"10h00m24s+02d10m55s\",frame = 'fk5')\n",
    "c_results = Alma.query_region(cos_cen,radius = 0.5*u.deg)\n",
    "print(c_results)"
   ]
  },
  {
   "cell_type": "code",
   "execution_count": 8,
   "metadata": {},
   "outputs": [
    {
     "name": "stdout",
     "output_type": "stream",
     "text": [
      "                           access_url                           access_format ... collections\n",
      "                                                                              ...            \n",
      "--------------------------------------------------------------- ------------- ... -----------\n",
      "  https://almascience.org/datalink/sync?ID=uid://A001/X11a2/X11     applicati ...            \n",
      "   https://almascience.org/datalink/sync?ID=uid://A001/X11d/X40     applicati ...       ari_l\n",
      "   https://almascience.org/datalink/sync?ID=uid://A001/X11d/X44     applicati ...       ari_l\n",
      "    https://almascience.org/datalink/sync?ID=uid://A001/X11d/X7     applicati ...       ari_l\n",
      "    https://almascience.org/datalink/sync?ID=uid://A001/X11d/Xb     applicati ...       ari_l\n",
      "    https://almascience.org/datalink/sync?ID=uid://A001/X11d/Xf     applicati ...       ari_l\n",
      "  https://almascience.org/datalink/sync?ID=uid://A001/X121/X24f     applicati ...       ari_l\n",
      "                                                            ...           ... ...         ...\n",
      "https://almascience.org/datalink/sync?ID=uid://A002/Xac065b/X34     applicati ...       ari_l\n",
      "https://almascience.org/datalink/sync?ID=uid://A002/Xac065b/X38     applicati ...       ari_l\n",
      "https://almascience.org/datalink/sync?ID=uid://A002/Xac065b/X3c     applicati ...       ari_l\n",
      "https://almascience.org/datalink/sync?ID=uid://A002/Xac065b/X40     applicati ...       ari_l\n",
      "https://almascience.org/datalink/sync?ID=uid://A002/Xac065b/X44     applicati ...       ari_l\n",
      "https://almascience.org/datalink/sync?ID=uid://A002/Xac065b/X48     applicati ...            \n",
      "https://almascience.org/datalink/sync?ID=uid://A002/Xac065b/X4c     applicati ...       ari_l\n",
      "Length = 578 rows\n"
     ]
    }
   ],
   "source": [
    "c_results = unique(c_results,'obs_id')\n",
    "print(c_results)"
   ]
  },
  {
   "cell_type": "code",
   "execution_count": 9,
   "metadata": {},
   "outputs": [
    {
     "ename": "ModuleNotFoundError",
     "evalue": "No module named 'astroquery.esa.hsa'",
     "output_type": "error",
     "traceback": [
      "\u001b[0;31m---------------------------------------------------------------------------\u001b[0m",
      "\u001b[0;31mModuleNotFoundError\u001b[0m                       Traceback (most recent call last)",
      "\u001b[0;32m/var/folders/c7/xkmg596n0y7_9hks6dvylzlm0000gn/T/ipykernel_11823/609315482.py\u001b[0m in \u001b[0;36m<module>\u001b[0;34m\u001b[0m\n\u001b[0;32m----> 1\u001b[0;31m \u001b[0;32mfrom\u001b[0m \u001b[0mastroquery\u001b[0m\u001b[0;34m.\u001b[0m\u001b[0mesa\u001b[0m\u001b[0;34m.\u001b[0m\u001b[0mhsa\u001b[0m \u001b[0;32mimport\u001b[0m \u001b[0mHSA\u001b[0m\u001b[0;34m\u001b[0m\u001b[0;34m\u001b[0m\u001b[0m\n\u001b[0m\u001b[1;32m      2\u001b[0m \u001b[0mh_results\u001b[0m \u001b[0;34m=\u001b[0m \u001b[0mHSA\u001b[0m\u001b[0;34m.\u001b[0m\u001b[0mquery_region\u001b[0m\u001b[0;34m(\u001b[0m\u001b[0mcos_cen\u001b[0m\u001b[0;34m,\u001b[0m \u001b[0mradius\u001b[0m \u001b[0;34m=\u001b[0m \u001b[0;36m0.5\u001b[0m\u001b[0;34m*\u001b[0m\u001b[0mu\u001b[0m\u001b[0;34m.\u001b[0m\u001b[0mdeg\u001b[0m\u001b[0;34m)\u001b[0m\u001b[0;34m\u001b[0m\u001b[0;34m\u001b[0m\u001b[0m\n\u001b[1;32m      3\u001b[0m \u001b[0mprint\u001b[0m\u001b[0;34m(\u001b[0m\u001b[0mh_results\u001b[0m\u001b[0;34m)\u001b[0m\u001b[0;34m\u001b[0m\u001b[0;34m\u001b[0m\u001b[0m\n\u001b[1;32m      4\u001b[0m \u001b[0mprint\u001b[0m\u001b[0;34m(\u001b[0m\u001b[0mlen\u001b[0m\u001b[0;34m(\u001b[0m\u001b[0mh_results\u001b[0m\u001b[0;34m)\u001b[0m\u001b[0;34m)\u001b[0m\u001b[0;34m\u001b[0m\u001b[0;34m\u001b[0m\u001b[0m\n\u001b[1;32m      5\u001b[0m \u001b[0mprint\u001b[0m\u001b[0;34m(\u001b[0m\u001b[0mh_results\u001b[0m\u001b[0;34m.\u001b[0m\u001b[0mcolnames\u001b[0m\u001b[0;34m)\u001b[0m\u001b[0;34m\u001b[0m\u001b[0;34m\u001b[0m\u001b[0m\n",
      "\u001b[0;31mModuleNotFoundError\u001b[0m: No module named 'astroquery.esa.hsa'"
     ]
    }
   ],
   "source": [
    "from astroquery.esa.hsa import HSA\n",
    "h_results = HSA.query_region(cos_cen, radius = 0.5*u.deg)\n",
    "print(h_results)\n",
    "print(len(h_results))\n",
    "print(h_results.colnames)"
   ]
  },
  {
   "cell_type": "code",
   "execution_count": null,
   "metadata": {},
   "outputs": [],
   "source": [
    "c_catalog = SkyCoord(ra= c_results['s_ra'],dec=c_results['s_dec'])\n",
    "h_catalog = SkyCoord(ra= h_results['ra'],dec=h_results['dec'])\n",
    "idx,d2d,d3d = h_catalog.match_to_catalog_sky(c_catalog)\n",
    "print(idx,d2d)"
   ]
  },
  {
   "cell_type": "code",
   "execution_count": null,
   "metadata": {},
   "outputs": [],
   "source": [
    "print(c_results[idx])\n"
   ]
  },
  {
   "cell_type": "code",
   "execution_count": null,
   "metadata": {},
   "outputs": [],
   "source": [
    "#use the query_tap mysql syntax to look for disk observations\n",
    "#with a sensitivity better than 0.5 mjy/beam @ 10kms resolution\n",
    "#at a frequency between 300 and 400 GHz\n",
    "#\n",
    "taptest = Alma.query_tap(\"select * from ivoa.ObsCore WHERE frequency > 300 AND frequency < 400 AND sensitivity_10kms < 5 AND science_keyword LIKE '%disk%'\")\n",
    "print(taptest)"
   ]
  },
  {
   "cell_type": "code",
   "execution_count": null,
   "metadata": {},
   "outputs": [],
   "source": [
    "import astroquery\n",
    "print(astroquery.__version__)"
   ]
  },
  {
   "cell_type": "code",
   "execution_count": null,
   "metadata": {},
   "outputs": [],
   "source": []
  }
 ],
 "metadata": {
  "kernelspec": {
   "display_name": "Python 3 (ipykernel)",
   "language": "python",
   "name": "python3"
  },
  "language_info": {
   "codemirror_mode": {
    "name": "ipython",
    "version": 3
   },
   "file_extension": ".py",
   "mimetype": "text/x-python",
   "name": "python",
   "nbconvert_exporter": "python",
   "pygments_lexer": "ipython3",
   "version": "3.9.7"
  }
 },
 "nbformat": 4,
 "nbformat_minor": 2
}
