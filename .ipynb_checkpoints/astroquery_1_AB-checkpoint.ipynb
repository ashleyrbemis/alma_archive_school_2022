{
 "cells": [
  {
   "cell_type": "markdown",
   "metadata": {},
   "source": [
    "# Part 1. Using Astroquery to find and download ALMA data\n",
    "#### Authors: Toma Badescu, Ashley Bemis\n",
    "\n",
    "\n",
    "This tutorial walks you through using Astroquery's catalog and archive search functionality in addition to its line list services to find recent ALMA data on the CO 1-0 transition across M83. This can be adapted to similar extragalactic projects.\n",
    "\n",
    "The sections of the turorial are broken down as follows:\n",
    "1. [Perform an object query of the ALMA science archive](#object_query)\n",
    "2. [Use source redshift to check which ALMA band covers line](#using_redshift)\n",
    "3. [Download ALMA data using Astroquery](#download_data)\n",
    "\n",
    "#### Tips\n",
    "- If you want to access help for a particular command, type `help(command)` and run the cell\n",
    "- The Astroquery readthedocs is located [here](https://astroquery.readthedocs.io/en/latest/).\n",
    "- We suggest running Astroquery version 0.4.7. Some steps of this tutorial will not work in earlier versions, such as HSA search functionionality or ALMA authentication."
   ]
  },
  {
   "cell_type": "code",
   "execution_count": 1,
   "metadata": {
    "scrolled": true
   },
   "outputs": [
    {
     "name": "stdout",
     "output_type": "stream",
     "text": [
      "0.4.6\n"
     ]
    }
   ],
   "source": [
    "# Import Astroquery and check your current working version by doing the following:\n",
    "import astroquery\n",
    "print(astroquery.__version__)\n",
    "\n",
    "# Import astroquery's ALMA archive search tool and other useful packages:\n",
    "from astroquery.alma import Alma\n",
    "import numpy as np\n",
    "import astropy.units as u\n",
    "#instantiate alma object/class\n",
    "alma = Alma()\n",
    "\n",
    "# If you have access to proprietary data that you want to work with, you will need to login to your ALMA account:\n",
    "#login_name = \"\"\n",
    "#alma.login(login_name)"
   ]
  },
  {
   "cell_type": "markdown",
   "metadata": {},
   "source": [
    "<a id=\"object_query\"></a>\n",
    "## 1.1 Perform an object query of the ALMA science archive\n",
    "\n",
    "We perform an ALMA object query (`alma.query_object`). Astroquery sends the source name to the ALMA Archive, which then resolves the source coordinates using, i.e. Simbad, NED, and Vizier, for matches to the object name. Astroquery returns an astropy table containing information on all of the ALMA archival data towards M83's coordinates.\n",
    "\n",
    "Note that you can instead perform a region search (`alma.query_region`) using Astroquery specifying a search radius. The default ALMA search radius is 10 arcminutes.\n",
    "\n",
    "In the following cells we:\n",
    "- Use an object query to search the ALMA archive for M83 observations\n",
    "- Select observations by time and ALMA band"
   ]
  },
  {
   "cell_type": "code",
   "execution_count": 2,
   "metadata": {},
   "outputs": [
    {
     "name": "stdout",
     "output_type": "stream",
     "text": [
      "Here is the astropy table returned for M83:\n",
      "\n",
      "                          access_url                          ... collections\n",
      "                                                              ...            \n",
      "------------------------------------------------------------- ... -----------\n",
      "https://almascience.org/datalink/sync?ID=uid://A001/X12f/X327 ...            \n",
      "https://almascience.org/datalink/sync?ID=uid://A001/X12f/X327 ...            \n",
      "https://almascience.org/datalink/sync?ID=uid://A001/X12f/X327 ...            \n",
      "https://almascience.org/datalink/sync?ID=uid://A001/X12f/X327 ...            \n",
      "https://almascience.org/datalink/sync?ID=uid://A001/X888/X23e ...            \n",
      "                                                          ... ...         ...\n",
      "https://almascience.org/datalink/sync?ID=uid://A001/X1295/X21 ...            \n",
      "https://almascience.org/datalink/sync?ID=uid://A001/X1295/X37 ...            \n",
      "https://almascience.org/datalink/sync?ID=uid://A001/X1295/X37 ...            \n",
      "https://almascience.org/datalink/sync?ID=uid://A001/X1295/X37 ...            \n",
      "https://almascience.org/datalink/sync?ID=uid://A001/X1295/X37 ...            \n",
      "Length = 404 rows\n",
      "Here is a list of all of the column names of retrieved table:\n",
      "\n",
      "['access_url', 'access_format', 'proposal_id', 'data_rights', 'gal_longitude', 'gal_latitude', 'obs_publisher_did', 'obs_collection', 'facility_name', 'instrument_name', 'obs_id', 'dataproduct_type', 'calib_level', 'target_name', 's_ra', 's_dec', 's_fov', 's_region', 's_resolution', 't_min', 't_max', 't_exptime', 't_resolution', 'em_min', 'em_max', 'em_res_power', 'pol_states', 'o_ucd', 'band_list', 'em_resolution', 'authors', 'pub_abstract', 'publication_year', 'proposal_abstract', 'schedblock_name', 'proposal_authors', 'sensitivity_10kms', 'cont_sensitivity_bandwidth', 'pwv', 'group_ous_uid', 'member_ous_uid', 'asdm_uid', 'obs_title', 'type', 'scan_intent', 'science_observation', 'spatial_scale_max', 'bandwidth', 'antenna_arrays', 'is_mosaic', 'obs_release_date', 'spatial_resolution', 'frequency_support', 'frequency', 'velocity_resolution', 'obs_creator_name', 'pub_title', 'first_author', 'qa2_passed', 'bib_reference', 'science_keyword', 'scientific_category', 'lastModified', 'collections']\n"
     ]
    }
   ],
   "source": [
    "####################################################################\n",
    "# Use object query to search the ALMA archive for M83 observations #\n",
    "####################################################################\n",
    "\n",
    "q_results = alma.query_object(\"M83\")\n",
    "# Astroquery returns an astropy table with all ALMA results matching the coordinates to M83.\n",
    "\n",
    "print(\"Here is the astropy table returned for M83:\\n\")\n",
    "print(q_results)\n",
    "\n",
    "# Print the column names of the resulting table.\n",
    "print(\"Here is a list of all of the column names of retrieved table:\\n\")\n",
    "print(q_results.colnames)"
   ]
  },
  {
   "cell_type": "code",
   "execution_count": 3,
   "metadata": {},
   "outputs": [
    {
     "name": "stdout",
     "output_type": "stream",
     "text": [
      "M83, Band 7 and 9, newer than 2017:\n",
      "                          access_url                          ... collections\n",
      "                                                              ...            \n",
      "------------------------------------------------------------- ... -----------\n",
      "https://almascience.org/datalink/sync?ID=uid://A001/X888/X23e ...            \n",
      "https://almascience.org/datalink/sync?ID=uid://A001/X888/X23e ...            \n",
      "https://almascience.org/datalink/sync?ID=uid://A001/X888/X23e ...            \n",
      "https://almascience.org/datalink/sync?ID=uid://A001/X888/X23e ...            \n",
      "https://almascience.org/datalink/sync?ID=uid://A001/X888/X240 ...            \n",
      "                                                          ... ...         ...\n",
      "https://almascience.org/datalink/sync?ID=uid://A001/X2fe/X3c0 ...            \n",
      "https://almascience.org/datalink/sync?ID=uid://A001/X2fe/X3d0 ...            \n",
      "https://almascience.org/datalink/sync?ID=uid://A001/X2fe/X3d0 ...            \n",
      "https://almascience.org/datalink/sync?ID=uid://A001/X2fe/X3d0 ...            \n",
      "https://almascience.org/datalink/sync?ID=uid://A001/X2fe/X3d0 ...            \n",
      "Length = 23 rows\n"
     ]
    }
   ],
   "source": [
    "#############################################\n",
    "# Select observations by time and ALMA band #\n",
    "#############################################\n",
    "\n",
    "from datetime import datetime\n",
    "\n",
    "# Search table for observations that are from 2017 or later:\n",
    "# ** Note that this will overwrite the original table.\n",
    "q_results = q_results[[datetime.fromisoformat(i) > datetime(2018,1,1) for i in q_results['obs_release_date']]] \n",
    "\n",
    "# Create a new table by selecting by band,  e.g. specificall band 7 and 9:\n",
    "# You can also modify this search to select by frequency or science goal.\n",
    "q_results_b7_b9 = alma.query_object(\"M83\",payload=dict(band_list = [7,9]))\n",
    "\n",
    "# Search the new table for observations that are from 2017 or later:\n",
    "q_results_b7_b9 = q_results_b7_b9[[datetime.fromisoformat(i) > datetime(2018,1,1) for i in q_results_b7_b9['obs_release_date']]]\n",
    "print(\"M83, Band 7 and 9, newer than 2017:\")\n",
    "print(q_results_b7_b9)"
   ]
  },
  {
   "cell_type": "markdown",
   "metadata": {},
   "source": [
    "<a id=\"using_redshift\"></a>\n",
    "## 1.2 Use source redshift to check which ALMA band covers line\n",
    "\n",
    "Although M83 is fairly close ($z<<1$), it is useful to calculate the redshifted frequency of transitions we are intereted in to be able to carefully check if they fall within the spectral setup of the ALMA observations in the archive.\n",
    "\n",
    "In the following cells we:\n",
    " - query NED to grab the photometric redshift of M83\n",
    " - use Splatalogue to get the rest frequencies of our transition(s) of interest, i.e. CO v=0 lines\n",
    " - use ALMA utils to compare the frequency support of the archival ALMA data on M83 with the redshifted frequency of CO v=0 lines"
   ]
  },
  {
   "cell_type": "code",
   "execution_count": 4,
   "metadata": {},
   "outputs": [
    {
     "name": "stdout",
     "output_type": "stream",
     "text": [
      "M83 z = 0.001711\n",
      "\n"
     ]
    }
   ],
   "source": [
    "#####################################################\n",
    "# Query NED to grab the photometric redshift of M83 #\n",
    "#####################################################\n",
    "\n",
    "from astroquery.ipac.ned import Ned\n",
    "z_result = Ned.query_object(\"M 83\") # Space is needed in name here!!\n",
    "redshift = z_result['Redshift'][0] # We take the first and only redshift\n",
    "print('M83 z = {}\\n'.format(redshift))"
   ]
  },
  {
   "cell_type": "code",
   "execution_count": 5,
   "metadata": {
    "scrolled": true
   },
   "outputs": [
    {
     "name": "stdout",
     "output_type": "stream",
     "text": [
      "Species  Chemical Name  Freq-GHz(rest frame,redshifted) ...  E_U (K)  Linelist\n",
      "------- --------------- ------------------------------- ... --------- --------\n",
      "  COv=0 Carbon Monoxide                              -- ...   5.53211      JPL\n",
      "  COv=0 Carbon Monoxide                              -- ...   5.53211     CDMS\n",
      "  COv=0 Carbon Monoxide                      115.271202 ...       0.0    Lovas\n",
      "  COv=0 Carbon Monoxide                      115.271202 ...   5.53211    SLAIM\n",
      "  COv=0 Carbon Monoxide                              -- ...  16.59608      JPL\n",
      "    ...             ...                             ... ...       ...      ...\n",
      "  COv=0 Carbon Monoxide                      806.651801 ... 154.87195    SLAIM\n",
      "  COv=0 Carbon Monoxide                              -- ... 154.87252      JPL\n",
      "  COv=0 Carbon Monoxide                              -- ... 154.87252     CDMS\n",
      "  COv=0 Carbon Monoxide                              -- ... 199.11167      JPL\n",
      "  COv=0 Carbon Monoxide                              -- ... 199.11167     CDMS\n",
      "  COv=0 Carbon Monoxide                      921.799704 ... 199.11109    SLAIM\n",
      "Length = 30 rows\n",
      "\n",
      "Sky frequencies of the first 6 CO v=0 J-transitions:\n",
      "CO J=1-0: 115.07430985583666 GHz\n",
      "CO J=2-1: 230.14422323404656 GHz\n",
      "CO J=3-2: 345.20534365700286 GHz\n",
      "CO J=4-3: 460.25327464707885 GHz\n",
      "CO J=5-4: 690.2919864112504 GHz\n",
      "CO J=6-5: 805.273977224968 GHz\n"
     ]
    }
   ],
   "source": [
    "######################################\n",
    "# Get rest CO lines from Splatalogue #\n",
    "######################################\n",
    "\n",
    "from astroquery.splatalogue import Splatalogue\n",
    "l_results = Splatalogue.query_lines(1*u.GHz,1000*u.GHz,chemical_name = ' CO v = 0 ')\n",
    "print(l_results)\n",
    "\n",
    "# Cleanup: remove rows with masked values\n",
    "l_results.remove_rows(np.where([c.data for c in l_results.mask.itercols()])[-1])\n",
    "\n",
    "# Convert rest frequencies of lines to redshifted values\n",
    "restfreq = l_results['Freq-GHz(rest frame,redshifted)']\n",
    "shiftfreq = restfreq*u.GHz/(1+redshift)\n",
    "print('\\nSky frequencies of the first 6 CO v=0 J-transitions:')\n",
    "i = 1\n",
    "for s in shiftfreq:\n",
    "    print('CO J={}-{}: {}'.format(i,i-1,s))\n",
    "    i=i+1"
   ]
  },
  {
   "cell_type": "code",
   "execution_count": 6,
   "metadata": {},
   "outputs": [
    {
     "name": "stdout",
     "output_type": "stream",
     "text": [
      "                          access_url                          ... CO data\n",
      "                                                              ...        \n",
      "------------------------------------------------------------- ... -------\n",
      "https://almascience.org/datalink/sync?ID=uid://A001/X888/X23e ...        \n",
      "https://almascience.org/datalink/sync?ID=uid://A001/X888/X23e ...        \n",
      "https://almascience.org/datalink/sync?ID=uid://A001/X888/X23e ...        \n",
      "https://almascience.org/datalink/sync?ID=uid://A001/X888/X23e ...        \n",
      "https://almascience.org/datalink/sync?ID=uid://A001/X888/X240 ...        \n",
      "                                                          ... ...     ...\n",
      "https://almascience.org/datalink/sync?ID=uid://A001/X1295/X21 ...  CO 1-0\n",
      "https://almascience.org/datalink/sync?ID=uid://A001/X1295/X37 ...  CO 1-0\n",
      "https://almascience.org/datalink/sync?ID=uid://A001/X1295/X37 ...  CO 1-0\n",
      "https://almascience.org/datalink/sync?ID=uid://A001/X1295/X37 ...  CO 1-0\n",
      "https://almascience.org/datalink/sync?ID=uid://A001/X1295/X37 ...  CO 1-0\n",
      "Length = 282 rows\n"
     ]
    }
   ],
   "source": [
    "###############################################################################\n",
    "# Compare frequency support of ALMA observations with redshifted CO frequency #\n",
    "###############################################################################\n",
    "\n",
    "from astroquery.alma.utils import parse_frequency_support\n",
    "#Info: alma utils converts the frequency support into arrays holding the spectral windows' start and end frequencies\n",
    "\n",
    "# Check which CO line is in which band:\n",
    "# We do this by comparing the sky frequencies of the 6 CO transitions\n",
    "# with the frequency support of each row (observation) from the ALMA search results table.\n",
    "#\n",
    "# This returns a nested list of boolean values indicating if the each of the CO lines is covered\n",
    "CO_loc = np.array([[any([a[0] < freq < a[1] for a in parse_frequency_support(q_row['frequency_support'])]) for q_row in q_results] for freq in shiftfreq]).T\n",
    "\n",
    "# Add a column to q_results indicating which CO transition is in which band\n",
    "CO_lin = ['CO '+' '.join(l_results['Resolved QNs'][a]) if any(a) else ' ' for a in CO_loc]\n",
    "q_results['CO data']=CO_lin\n",
    "\n",
    "print(q_results)"
   ]
  },
  {
   "cell_type": "code",
   "execution_count": 7,
   "metadata": {},
   "outputs": [],
   "source": [
    "###########\n",
    "# CLEANUP #\n",
    "###########\n",
    "\n",
    "#Eliminate data with no co lines\n",
    "q_results = q_results[q_results['CO data'] != ' ']\n",
    "#Remove this column as it is masked and causes problems\n",
    "q_results.remove_column('publication_year')"
   ]
  },
  {
   "cell_type": "markdown",
   "metadata": {},
   "source": [
    "<a id=\"download_data\"></a>\n",
    "## 1.3 Download ALMA data using Astroquery\n",
    "\n",
    "Once you have decided which data you would like to work with locally, you can download it from the archive using the `access_url` provided in the astropy table. `alma.get_data_info` can be used to further list what is in each tarfile in the archive."
   ]
  },
  {
   "cell_type": "code",
   "execution_count": null,
   "metadata": {
    "scrolled": true
   },
   "outputs": [],
   "source": [
    "from astropy.table import unique\n",
    "\n",
    "# To avoid downloading duplicates, only take results with unique `obs_id`\n",
    "q_results = unique(q_results,'obs_id')\n",
    "print(q_results)\n",
    "\n",
    "# List what is in each archive tarfile\n",
    "# Note: this may take some time\n",
    "uid_url_tab_list = [Alma.get_data_info(a, expand_tarfiles=True) for a in q_results['obs_id']]"
   ]
  },
  {
   "cell_type": "code",
   "execution_count": null,
   "metadata": {},
   "outputs": [],
   "source": [
    "# Make a list of only the fits files\n",
    "fits_urls = [[url for url in tab['access_url'] if '.fits' in url] for tab in uid_url_tab_list]\n",
    "print(fits_urls)\n",
    "\n",
    "# Set a local cache for the data\n",
    "Alma.cache_location = '/big/external/drive/'\n",
    "#files = [alma.download_files(url,cache=True) for url in fits_urls] #tested and works\n",
    "#print(files)"
   ]
  },
  {
   "cell_type": "markdown",
   "metadata": {},
   "source": [
    "# Part 2: Compare data catalogs"
   ]
  },
  {
   "cell_type": "code",
   "execution_count": null,
   "metadata": {},
   "outputs": [],
   "source": [
    "\n",
    "#Part 2: compare some catalogs, do cone search ~1deg\n",
    "#cosmos field center:\n",
    "from astropy.coordinates import SkyCoord\n",
    "cos_cen = SkyCoord(\"10h00m24s+02d10m55s\",frame = 'fk5')\n",
    "c_results = Alma.query_region(cos_cen,radius = 0.5*u.deg)\n",
    "print(c_results)"
   ]
  },
  {
   "cell_type": "code",
   "execution_count": null,
   "metadata": {},
   "outputs": [],
   "source": [
    "c_results = unique(c_results,'obs_id')\n",
    "print(c_results)"
   ]
  },
  {
   "cell_type": "code",
   "execution_count": null,
   "metadata": {},
   "outputs": [],
   "source": [
    "from astroquery.esa.hsa import HSA\n",
    "h_results = HSA.query_region(cos_cen, radius = 0.5*u.deg)\n",
    "print(h_results)\n",
    "print(len(h_results))\n",
    "print(h_results.colnames)"
   ]
  },
  {
   "cell_type": "code",
   "execution_count": null,
   "metadata": {},
   "outputs": [],
   "source": [
    "c_catalog = SkyCoord(ra= c_results['s_ra'],dec=c_results['s_dec'])\n",
    "h_catalog = SkyCoord(ra= h_results['ra'],dec=h_results['dec'])\n",
    "idx,d2d,d3d = h_catalog.match_to_catalog_sky(c_catalog)\n",
    "print(idx,d2d)"
   ]
  },
  {
   "cell_type": "code",
   "execution_count": null,
   "metadata": {},
   "outputs": [],
   "source": [
    "print(c_results[idx])\n"
   ]
  },
  {
   "cell_type": "code",
   "execution_count": null,
   "metadata": {},
   "outputs": [],
   "source": [
    "#use the query_tap mysql syntax to look for disk observations\n",
    "#with a sensitivity better than 0.5 mjy/beam @ 10kms resolution\n",
    "#at a frequency between 300 and 400 GHz\n",
    "#\n",
    "taptest = Alma.query_tap(\"select * from ivoa.ObsCore WHERE frequency > 300 AND frequency < 400 AND sensitivity_10kms < 5 AND science_keyword LIKE '%disk%'\")\n",
    "print(taptest)"
   ]
  }
 ],
 "metadata": {
  "kernelspec": {
   "display_name": "Python 3 (ipykernel)",
   "language": "python",
   "name": "python3"
  },
  "language_info": {
   "codemirror_mode": {
    "name": "ipython",
    "version": 3
   },
   "file_extension": ".py",
   "mimetype": "text/x-python",
   "name": "python",
   "nbconvert_exporter": "python",
   "pygments_lexer": "ipython3",
   "version": "3.9.7"
  }
 },
 "nbformat": 4,
 "nbformat_minor": 2
}
