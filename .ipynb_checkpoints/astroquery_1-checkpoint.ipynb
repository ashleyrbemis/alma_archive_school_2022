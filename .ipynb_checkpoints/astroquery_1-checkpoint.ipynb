{
 "cells": [
  {
   "cell_type": "code",
   "execution_count": 2,
   "metadata": {
    "scrolled": true
   },
   "outputs": [
    {
     "name": "stdout",
     "output_type": "stream",
     "text": [
      "0.4.6\n"
     ]
    }
   ],
   "source": [
    "import astroquery\n",
    "print(astroquery.__version__)\n"
   ]
  },
  {
   "cell_type": "code",
   "execution_count": 3,
   "metadata": {},
   "outputs": [
    {
     "name": "stdout",
     "output_type": "stream",
     "text": [
      "Data for M83:\n",
      "                          access_url                          ... collections\n",
      "                                                              ...            \n",
      "------------------------------------------------------------- ... -----------\n",
      "https://almascience.org/datalink/sync?ID=uid://A001/X12f/X327 ...            \n",
      "https://almascience.org/datalink/sync?ID=uid://A001/X12f/X327 ...            \n",
      "https://almascience.org/datalink/sync?ID=uid://A001/X12f/X327 ...            \n",
      "https://almascience.org/datalink/sync?ID=uid://A001/X12f/X327 ...            \n",
      "https://almascience.org/datalink/sync?ID=uid://A001/X888/X23e ...            \n",
      "                                                          ... ...         ...\n",
      "https://almascience.org/datalink/sync?ID=uid://A001/X1295/X21 ...            \n",
      "https://almascience.org/datalink/sync?ID=uid://A001/X1295/X37 ...            \n",
      "https://almascience.org/datalink/sync?ID=uid://A001/X1295/X37 ...            \n",
      "https://almascience.org/datalink/sync?ID=uid://A001/X1295/X37 ...            \n",
      "https://almascience.org/datalink/sync?ID=uid://A001/X1295/X37 ...            \n",
      "Length = 404 rows\n",
      "Column names of retrieved table:\n",
      "['access_url', 'access_format', 'proposal_id', 'data_rights', 'gal_longitude', 'gal_latitude', 'obs_publisher_did', 'obs_collection', 'facility_name', 'instrument_name', 'obs_id', 'dataproduct_type', 'calib_level', 'target_name', 's_ra', 's_dec', 's_fov', 's_region', 's_resolution', 't_min', 't_max', 't_exptime', 't_resolution', 'em_min', 'em_max', 'em_res_power', 'pol_states', 'o_ucd', 'band_list', 'em_resolution', 'authors', 'pub_abstract', 'publication_year', 'proposal_abstract', 'schedblock_name', 'proposal_authors', 'sensitivity_10kms', 'cont_sensitivity_bandwidth', 'pwv', 'group_ous_uid', 'member_ous_uid', 'asdm_uid', 'obs_title', 'type', 'scan_intent', 'science_observation', 'spatial_scale_max', 'bandwidth', 'antenna_arrays', 'is_mosaic', 'obs_release_date', 'spatial_resolution', 'frequency_support', 'frequency', 'velocity_resolution', 'obs_creator_name', 'pub_title', 'first_author', 'qa2_passed', 'bib_reference', 'science_keyword', 'scientific_category', 'lastModified', 'collections']\n",
      "M83, Band 7 and 9, newer than 2017:\n",
      "                          access_url                          ... collections\n",
      "                                                              ...            \n",
      "------------------------------------------------------------- ... -----------\n",
      "https://almascience.org/datalink/sync?ID=uid://A001/X888/X23e ...            \n",
      "https://almascience.org/datalink/sync?ID=uid://A001/X888/X23e ...            \n",
      "https://almascience.org/datalink/sync?ID=uid://A001/X888/X23e ...            \n",
      "https://almascience.org/datalink/sync?ID=uid://A001/X888/X23e ...            \n",
      "https://almascience.org/datalink/sync?ID=uid://A001/X888/X240 ...            \n",
      "                                                          ... ...         ...\n",
      "https://almascience.org/datalink/sync?ID=uid://A001/X2fe/X3c0 ...            \n",
      "https://almascience.org/datalink/sync?ID=uid://A001/X2fe/X3d0 ...            \n",
      "https://almascience.org/datalink/sync?ID=uid://A001/X2fe/X3d0 ...            \n",
      "https://almascience.org/datalink/sync?ID=uid://A001/X2fe/X3d0 ...            \n",
      "https://almascience.org/datalink/sync?ID=uid://A001/X2fe/X3d0 ...            \n",
      "Length = 23 rows\n"
     ]
    }
   ],
   "source": [
    "from astroquery.alma import Alma\n",
    "import numpy as np\n",
    "import astropy.units as u\n",
    "#instantiate alma object/class\n",
    "alma = Alma()\n",
    "\n",
    "#Login to your Alma account if you have one.\n",
    "#login_name = \"\"\n",
    "#alma.login(login_name)\n",
    "\n",
    "\n",
    "#3 types of searches: by name, by location \n",
    "#search by name: query the alma archive for galaxy M83 observations\n",
    "#and print the results. Print the column names of the resulting table\n",
    "q_results = alma.query_object(\"M83\")\n",
    "print(\"Data for M83:\")\n",
    "print(q_results)\n",
    "print(\"Column names of retrieved table:\")\n",
    "print(q_results.colnames)\n",
    "\n",
    "#select observations newer than 2017\n",
    "from datetime import datetime\n",
    "q_results = q_results[[datetime.fromisoformat(i) > datetime(2018,1,1) for i in q_results['obs_release_date']]] \n",
    "#select by band, by frequency, science goal\n",
    "#only band 7 and 9 newer than 2017\n",
    "q_results_b7_b9 = alma.query_object(\"M83\",payload=dict(band_list = [7,9]))\n",
    "q_results_b7_b9 = q_results_b7_b9[[datetime.fromisoformat(i) > datetime(2018,1,1) for i in q_results_b7_b9['obs_release_date']]]\n",
    "print(\"M83, Band 7 and 9, newer than 2017:\")\n",
    "print(q_results_b7_b9)\n"
   ]
  },
  {
   "cell_type": "code",
   "execution_count": 4,
   "metadata": {},
   "outputs": [
    {
     "name": "stdout",
     "output_type": "stream",
     "text": [
      "0.001711\n"
     ]
    }
   ],
   "source": [
    "#part 1: check if CO lines in band:\n",
    "\n",
    "#get redshift\n",
    "#from astroquery.ipac.ned import Ned\n",
    "from astroquery.ipac.ned import Ned\n",
    "z_result = Ned.query_object(\"M 83\")#space is needed here!!\n",
    "redshift = z_result['Redshift'][0]\n",
    "print(redshift)\n"
   ]
  },
  {
   "cell_type": "code",
   "execution_count": 5,
   "metadata": {},
   "outputs": [
    {
     "name": "stdout",
     "output_type": "stream",
     "text": [
      "Species  Chemical Name  Freq-GHz(rest frame,redshifted) ...  E_U (K)  Linelist\n",
      "------- --------------- ------------------------------- ... --------- --------\n",
      "  COv=0 Carbon Monoxide                              -- ...   5.53211      JPL\n",
      "  COv=0 Carbon Monoxide                              -- ...   5.53211     CDMS\n",
      "  COv=0 Carbon Monoxide                      115.271202 ...       0.0    Lovas\n",
      "  COv=0 Carbon Monoxide                      115.271202 ...   5.53211    SLAIM\n",
      "  COv=0 Carbon Monoxide                              -- ...  16.59608      JPL\n",
      "    ...             ...                             ... ...       ...      ...\n",
      "  COv=0 Carbon Monoxide                      806.651801 ... 154.87195    SLAIM\n",
      "  COv=0 Carbon Monoxide                              -- ... 154.87252      JPL\n",
      "  COv=0 Carbon Monoxide                              -- ... 154.87252     CDMS\n",
      "  COv=0 Carbon Monoxide                              -- ... 199.11167      JPL\n",
      "  COv=0 Carbon Monoxide                              -- ... 199.11167     CDMS\n",
      "  COv=0 Carbon Monoxide                      921.799704 ... 199.11109    SLAIM\n",
      "Length = 30 rows\n",
      "[[False False False False False False]\n",
      " [False False False False False False]\n",
      " [False False False False False False]\n",
      " ...\n",
      " [ True False False False False False]\n",
      " [ True False False False False False]\n",
      " [ True False False False False False]]\n",
      "                          access_url                          ... CO data\n",
      "                                                              ...        \n",
      "------------------------------------------------------------- ... -------\n",
      "https://almascience.org/datalink/sync?ID=uid://A001/X888/X23e ...        \n",
      "https://almascience.org/datalink/sync?ID=uid://A001/X888/X23e ...        \n",
      "https://almascience.org/datalink/sync?ID=uid://A001/X888/X23e ...        \n",
      "https://almascience.org/datalink/sync?ID=uid://A001/X888/X23e ...        \n",
      "https://almascience.org/datalink/sync?ID=uid://A001/X888/X240 ...        \n",
      "                                                          ... ...     ...\n",
      "https://almascience.org/datalink/sync?ID=uid://A001/X1295/X21 ...  CO 1-0\n",
      "https://almascience.org/datalink/sync?ID=uid://A001/X1295/X37 ...  CO 1-0\n",
      "https://almascience.org/datalink/sync?ID=uid://A001/X1295/X37 ...  CO 1-0\n",
      "https://almascience.org/datalink/sync?ID=uid://A001/X1295/X37 ...  CO 1-0\n",
      "https://almascience.org/datalink/sync?ID=uid://A001/X1295/X37 ...  CO 1-0\n",
      "Length = 282 rows\n"
     ]
    }
   ],
   "source": [
    "#get CO lines from splatalogue\n",
    "from astroquery.splatalogue import Splatalogue\n",
    "l_results = Splatalogue.query_lines(1*u.GHz,1000*u.GHz,chemical_name = ' CO v = 0 ') \n",
    "print(l_results)\n",
    "#a little cleanup by removing rows with masked values\n",
    "l_results.remove_rows(np.where([c.data for c in l_results.mask.itercols()])[-1])              \n",
    "#check if lines are in which projects \n",
    "#alma utils converts the frequency support into arrays holding the spectral windows' start and end frequencies\n",
    "from astroquery.alma.utils import parse_frequency_support\n",
    "#check which CO line is in which band\n",
    "CO_loc = np.array([[any([a[0] < freq*u.GHz/(1+redshift) < a[1] for a in parse_frequency_support(q_row['frequency_support'])]) for q_row in q_results] for freq in l_results['Freq-GHz(rest frame,redshifted)']] ).T\n",
    "print(CO_loc)\n",
    "\n",
    "CO_lin = ['CO '+' '.join(l_results['Resolved QNs'][a]) if any(a) else ' ' for a in CO_loc]\n",
    "q_results['CO data']=CO_lin\n",
    "print(q_results)"
   ]
  },
  {
   "cell_type": "code",
   "execution_count": 5,
   "metadata": {},
   "outputs": [],
   "source": [
    "#eliminate data with no co lines\n",
    "q_results = q_results[q_results['CO data'] != ' ']\n",
    "#remove this column as it is masked and causes problems\n",
    "q_results.remove_column('publication_year')\n"
   ]
  },
  {
   "cell_type": "code",
   "execution_count": 6,
   "metadata": {},
   "outputs": [],
   "source": [
    "#download data and set a cache location\n",
    "#only get fits files.\n",
    "from astropy.table import unique\n",
    "\n",
    "q_results = unique(q_results,'obs_id')\n",
    "#remove the [0]!\n",
    "uid_url_tab_list = [Alma.get_data_info(a, expand_tarfiles=True) for a in [q_results['obs_id'][0]]]\n",
    "fits_urls = [[url for url in tab['access_url'] if '.fits' in url] for tab in uid_url_tab_list]\n",
    "Alma.cache_location = '/big/external/drive/'\n",
    "#files = [alma.download_files(url,cache=True) for url in fits_urls] tested and works\n",
    "#print(files)\n"
   ]
  },
  {
   "cell_type": "code",
   "execution_count": 7,
   "metadata": {},
   "outputs": [
    {
     "name": "stdout",
     "output_type": "stream",
     "text": [
      "                           access_url                           access_format ... collections\n",
      "                                                                              ...            \n",
      "--------------------------------------------------------------- ------------- ... -----------\n",
      " https://almascience.org/datalink/sync?ID=uid://A001/X146a/X292     applicati ...            \n",
      " https://almascience.org/datalink/sync?ID=uid://A001/X146a/X292     applicati ...            \n",
      " https://almascience.org/datalink/sync?ID=uid://A001/X146a/X292     applicati ...            \n",
      " https://almascience.org/datalink/sync?ID=uid://A001/X146a/X26e     applicati ...            \n",
      " https://almascience.org/datalink/sync?ID=uid://A001/X146a/X26e     applicati ...            \n",
      " https://almascience.org/datalink/sync?ID=uid://A001/X146a/X26e     applicati ...            \n",
      " https://almascience.org/datalink/sync?ID=uid://A001/X146a/X296     applicati ...            \n",
      "                                                            ...           ... ...         ...\n",
      "https://almascience.org/datalink/sync?ID=uid://A001/X1465/X1563     applicati ...            \n",
      "https://almascience.org/datalink/sync?ID=uid://A001/X1465/X1563     applicati ...            \n",
      "https://almascience.org/datalink/sync?ID=uid://A001/X1465/X1563     applicati ...            \n",
      "https://almascience.org/datalink/sync?ID=uid://A001/X1465/X1567     applicati ...            \n",
      "https://almascience.org/datalink/sync?ID=uid://A001/X1465/X1567     applicati ...            \n",
      "https://almascience.org/datalink/sync?ID=uid://A001/X1465/X1567     applicati ...            \n",
      "https://almascience.org/datalink/sync?ID=uid://A001/X1465/X1567     applicati ...            \n",
      "Length = 9421 rows\n"
     ]
    }
   ],
   "source": [
    "\n",
    "#Part 2: compare some catalogs, do cone search ~1deg\n",
    "#cosmos field center:\n",
    "from astropy.coordinates import SkyCoord\n",
    "cos_cen = SkyCoord(\"10h00m24s+02d10m55s\",frame = 'fk5')\n",
    "c_results = Alma.query_region(cos_cen,radius = 0.5*u.deg)\n",
    "print(c_results)"
   ]
  },
  {
   "cell_type": "code",
   "execution_count": 8,
   "metadata": {},
   "outputs": [
    {
     "name": "stdout",
     "output_type": "stream",
     "text": [
      "                           access_url                           access_format ... collections\n",
      "                                                                              ...            \n",
      "--------------------------------------------------------------- ------------- ... -----------\n",
      "  https://almascience.org/datalink/sync?ID=uid://A001/X11a2/X11     applicati ...            \n",
      "   https://almascience.org/datalink/sync?ID=uid://A001/X11d/X40     applicati ...       ari_l\n",
      "   https://almascience.org/datalink/sync?ID=uid://A001/X11d/X44     applicati ...       ari_l\n",
      "    https://almascience.org/datalink/sync?ID=uid://A001/X11d/X7     applicati ...       ari_l\n",
      "    https://almascience.org/datalink/sync?ID=uid://A001/X11d/Xb     applicati ...       ari_l\n",
      "    https://almascience.org/datalink/sync?ID=uid://A001/X11d/Xf     applicati ...       ari_l\n",
      "  https://almascience.org/datalink/sync?ID=uid://A001/X121/X24f     applicati ...       ari_l\n",
      "                                                            ...           ... ...         ...\n",
      "https://almascience.org/datalink/sync?ID=uid://A002/Xac065b/X34     applicati ...       ari_l\n",
      "https://almascience.org/datalink/sync?ID=uid://A002/Xac065b/X38     applicati ...       ari_l\n",
      "https://almascience.org/datalink/sync?ID=uid://A002/Xac065b/X3c     applicati ...       ari_l\n",
      "https://almascience.org/datalink/sync?ID=uid://A002/Xac065b/X40     applicati ...       ari_l\n",
      "https://almascience.org/datalink/sync?ID=uid://A002/Xac065b/X44     applicati ...       ari_l\n",
      "https://almascience.org/datalink/sync?ID=uid://A002/Xac065b/X48     applicati ...            \n",
      "https://almascience.org/datalink/sync?ID=uid://A002/Xac065b/X4c     applicati ...       ari_l\n",
      "Length = 578 rows\n"
     ]
    }
   ],
   "source": [
    "c_results = unique(c_results,'obs_id')\n",
    "print(c_results)"
   ]
  },
  {
   "cell_type": "code",
   "execution_count": 9,
   "metadata": {},
   "outputs": [
    {
     "ename": "ModuleNotFoundError",
     "evalue": "No module named 'astroquery.esa.hsa'",
     "output_type": "error",
     "traceback": [
      "\u001b[0;31m---------------------------------------------------------------------------\u001b[0m",
      "\u001b[0;31mModuleNotFoundError\u001b[0m                       Traceback (most recent call last)",
      "\u001b[0;32m/var/folders/c7/xkmg596n0y7_9hks6dvylzlm0000gn/T/ipykernel_11823/609315482.py\u001b[0m in \u001b[0;36m<module>\u001b[0;34m\u001b[0m\n\u001b[0;32m----> 1\u001b[0;31m \u001b[0;32mfrom\u001b[0m \u001b[0mastroquery\u001b[0m\u001b[0;34m.\u001b[0m\u001b[0mesa\u001b[0m\u001b[0;34m.\u001b[0m\u001b[0mhsa\u001b[0m \u001b[0;32mimport\u001b[0m \u001b[0mHSA\u001b[0m\u001b[0;34m\u001b[0m\u001b[0;34m\u001b[0m\u001b[0m\n\u001b[0m\u001b[1;32m      2\u001b[0m \u001b[0mh_results\u001b[0m \u001b[0;34m=\u001b[0m \u001b[0mHSA\u001b[0m\u001b[0;34m.\u001b[0m\u001b[0mquery_region\u001b[0m\u001b[0;34m(\u001b[0m\u001b[0mcos_cen\u001b[0m\u001b[0;34m,\u001b[0m \u001b[0mradius\u001b[0m \u001b[0;34m=\u001b[0m \u001b[0;36m0.5\u001b[0m\u001b[0;34m*\u001b[0m\u001b[0mu\u001b[0m\u001b[0;34m.\u001b[0m\u001b[0mdeg\u001b[0m\u001b[0;34m)\u001b[0m\u001b[0;34m\u001b[0m\u001b[0;34m\u001b[0m\u001b[0m\n\u001b[1;32m      3\u001b[0m \u001b[0mprint\u001b[0m\u001b[0;34m(\u001b[0m\u001b[0mh_results\u001b[0m\u001b[0;34m)\u001b[0m\u001b[0;34m\u001b[0m\u001b[0;34m\u001b[0m\u001b[0m\n\u001b[1;32m      4\u001b[0m \u001b[0mprint\u001b[0m\u001b[0;34m(\u001b[0m\u001b[0mlen\u001b[0m\u001b[0;34m(\u001b[0m\u001b[0mh_results\u001b[0m\u001b[0;34m)\u001b[0m\u001b[0;34m)\u001b[0m\u001b[0;34m\u001b[0m\u001b[0;34m\u001b[0m\u001b[0m\n\u001b[1;32m      5\u001b[0m \u001b[0mprint\u001b[0m\u001b[0;34m(\u001b[0m\u001b[0mh_results\u001b[0m\u001b[0;34m.\u001b[0m\u001b[0mcolnames\u001b[0m\u001b[0;34m)\u001b[0m\u001b[0;34m\u001b[0m\u001b[0;34m\u001b[0m\u001b[0m\n",
      "\u001b[0;31mModuleNotFoundError\u001b[0m: No module named 'astroquery.esa.hsa'"
     ]
    }
   ],
   "source": [
    "from astroquery.esa.hsa import HSA\n",
    "h_results = HSA.query_region(cos_cen, radius = 0.5*u.deg)\n",
    "print(h_results)\n",
    "print(len(h_results))\n",
    "print(h_results.colnames)"
   ]
  },
  {
   "cell_type": "code",
   "execution_count": null,
   "metadata": {},
   "outputs": [],
   "source": [
    "c_catalog = SkyCoord(ra= c_results['s_ra'],dec=c_results['s_dec'])\n",
    "h_catalog = SkyCoord(ra= h_results['ra'],dec=h_results['dec'])\n",
    "idx,d2d,d3d = h_catalog.match_to_catalog_sky(c_catalog)\n",
    "print(idx,d2d)"
   ]
  },
  {
   "cell_type": "code",
   "execution_count": null,
   "metadata": {},
   "outputs": [],
   "source": [
    "print(c_results[idx])\n"
   ]
  },
  {
   "cell_type": "code",
   "execution_count": null,
   "metadata": {},
   "outputs": [],
   "source": [
    "#use the query_tap mysql syntax to look for disk observations\n",
    "#with a sensitivity better than 0.5 mjy/beam @ 10kms resolution\n",
    "#at a frequency between 300 and 400 GHz\n",
    "#\n",
    "taptest = Alma.query_tap(\"select * from ivoa.ObsCore WHERE frequency > 300 AND frequency < 400 AND sensitivity_10kms < 5 AND science_keyword LIKE '%disk%'\")\n",
    "print(taptest)"
   ]
  },
  {
   "cell_type": "code",
   "execution_count": null,
   "metadata": {},
   "outputs": [],
   "source": [
    "import astroquery\n",
    "print(astroquery.__version__)"
   ]
  },
  {
   "cell_type": "code",
   "execution_count": null,
   "metadata": {},
   "outputs": [],
   "source": []
  }
 ],
 "metadata": {
  "kernelspec": {
   "display_name": "Python 3 (ipykernel)",
   "language": "python",
   "name": "python3"
  },
  "language_info": {
   "codemirror_mode": {
    "name": "ipython",
    "version": 3
   },
   "file_extension": ".py",
   "mimetype": "text/x-python",
   "name": "python",
   "nbconvert_exporter": "python",
   "pygments_lexer": "ipython3",
   "version": "3.9.7"
  }
 },
 "nbformat": 4,
 "nbformat_minor": 2
}
